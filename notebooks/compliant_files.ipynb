{
 "cells": [
  {
   "cell_type": "code",
   "execution_count": 1,
   "metadata": {},
   "outputs": [],
   "source": [
    "import pandas as pd\n",
    "import sys\n",
    "import os\n",
    "sys.path.append(os.path.abspath(os.path.join(os.getcwd(), '..')))\n",
    "from config import *\n",
    "import fitz\n",
    "from tqdm import tqdm"
   ]
  },
  {
   "cell_type": "code",
   "execution_count": 2,
   "metadata": {},
   "outputs": [],
   "source": [
    "OUTPUT_FOLDER = \"../data/output\"\n",
    "output_files = os.listdir(OUTPUT_FOLDER)"
   ]
  },
  {
   "cell_type": "code",
   "execution_count": 44,
   "metadata": {},
   "outputs": [
    {
     "name": "stderr",
     "output_type": "stream",
     "text": [
      "100%|██████████| 211/211 [00:05<00:00, 35.44it/s]"
     ]
    },
    {
     "name": "stdout",
     "output_type": "stream",
     "text": [
      "Found 1 compliant files:\n",
      "- Basu, Wagner, Sewpaul, Reddy, Davies_The Lancet Global Health_2019_highlighted.pdf\n"
     ]
    },
    {
     "name": "stderr",
     "output_type": "stream",
     "text": [
      "\n"
     ]
    }
   ],
   "source": [
    "compliant_files = []\n",
    "\n",
    "for filename in tqdm(output_files):\n",
    "    if not filename.endswith(\"_highlighted.pdf\"):\n",
    "        continue\n",
    "        \n",
    "    pdf_path = os.path.join(OUTPUT_FOLDER, filename)\n",
    "    \n",
    "    # Read the PDF and check for highlights\n",
    "    doc = fitz.open(pdf_path)\n",
    "    found_colors = set()\n",
    "    has_highlights = False\n",
    "    \n",
    "    # Check each page for highlights\n",
    "    for page in doc:\n",
    "        highlights = page.annots()\n",
    "        \n",
    "        for highlight in highlights:\n",
    "            if highlight.type[0] != fitz.PDF_ANNOT_HIGHLIGHT:\n",
    "                continue\n",
    "                \n",
    "            has_highlights = True\n",
    "            color = highlight.colors[\"stroke\"]\n",
    "            # Convert color tuple to match CRITERIA_COLORS format\n",
    "            color_tuple = (round(color[0], 1), round(color[1], 1), round(color[2], 1))\n",
    "            \n",
    "            # Check if highlight has a comment starting with \"YES\"\n",
    "            comment = highlight.info.get(\"content\", \"\")\n",
    "            if comment.startswith(\"YES\"):\n",
    "                # Add color to set if it's one of the first 4 criteria colors\n",
    "                if color_tuple in list(CRITERIA_COLORS.values())[:4]:\n",
    "                    found_colors.add(color_tuple)\n",
    "                \n",
    "    # Check if all 4 colors were found\n",
    "    if has_highlights and len(found_colors) == 4:\n",
    "        compliant_files.append(filename)\n",
    "        \n",
    "    doc.close()\n",
    "\n",
    "print(f\"Found {len(compliant_files)} compliant files:\")\n",
    "for file in compliant_files:\n",
    "    print(f\"- {file}\")\n"
   ]
  },
  {
   "cell_type": "code",
   "execution_count": 34,
   "metadata": {},
   "outputs": [
    {
     "data": {
      "text/html": [
       "<div>\n",
       "<style scoped>\n",
       "    .dataframe tbody tr th:only-of-type {\n",
       "        vertical-align: middle;\n",
       "    }\n",
       "\n",
       "    .dataframe tbody tr th {\n",
       "        vertical-align: top;\n",
       "    }\n",
       "\n",
       "    .dataframe thead th {\n",
       "        text-align: right;\n",
       "    }\n",
       "</style>\n",
       "<table border=\"1\" class=\"dataframe\">\n",
       "  <thead>\n",
       "    <tr style=\"text-align: right;\">\n",
       "      <th></th>\n",
       "      <th>Key</th>\n",
       "      <th>Item Type</th>\n",
       "      <th>Publication Year</th>\n",
       "      <th>Author</th>\n",
       "      <th>Title</th>\n",
       "      <th>Publication Title</th>\n",
       "      <th>ISBN</th>\n",
       "      <th>ISSN</th>\n",
       "      <th>DOI</th>\n",
       "      <th>Url</th>\n",
       "      <th>...</th>\n",
       "      <th>Programming Language</th>\n",
       "      <th>Version</th>\n",
       "      <th>System</th>\n",
       "      <th>Code</th>\n",
       "      <th>Code Number</th>\n",
       "      <th>Section</th>\n",
       "      <th>Session</th>\n",
       "      <th>Committee</th>\n",
       "      <th>History</th>\n",
       "      <th>Legislative Body</th>\n",
       "    </tr>\n",
       "  </thead>\n",
       "  <tbody>\n",
       "    <tr>\n",
       "      <th>0</th>\n",
       "      <td>7Z3S4GYD</td>\n",
       "      <td>journalArticle</td>\n",
       "      <td>2021.0</td>\n",
       "      <td>Jayasekera, Jinani; Sparano, Joseph A.; O'Neil...</td>\n",
       "      <td>Development and Validation of a Simulation Mod...</td>\n",
       "      <td>Journal of Clinical Oncology</td>\n",
       "      <td>NaN</td>\n",
       "      <td>0732-183X</td>\n",
       "      <td>10.1200/JCO.21.00651</td>\n",
       "      <td>https://www.ncbi.nlm.nih.gov/pmc/articles/PMC8...</td>\n",
       "      <td>...</td>\n",
       "      <td>NaN</td>\n",
       "      <td>NaN</td>\n",
       "      <td>NaN</td>\n",
       "      <td>NaN</td>\n",
       "      <td>NaN</td>\n",
       "      <td>NaN</td>\n",
       "      <td>NaN</td>\n",
       "      <td>NaN</td>\n",
       "      <td>NaN</td>\n",
       "      <td>NaN</td>\n",
       "    </tr>\n",
       "  </tbody>\n",
       "</table>\n",
       "<p>1 rows × 87 columns</p>\n",
       "</div>"
      ],
      "text/plain": [
       "        Key       Item Type  Publication Year  \\\n",
       "0  7Z3S4GYD  journalArticle            2021.0   \n",
       "\n",
       "                                              Author  \\\n",
       "0  Jayasekera, Jinani; Sparano, Joseph A.; O'Neil...   \n",
       "\n",
       "                                               Title  \\\n",
       "0  Development and Validation of a Simulation Mod...   \n",
       "\n",
       "              Publication Title ISBN       ISSN                   DOI  \\\n",
       "0  Journal of Clinical Oncology  NaN  0732-183X  10.1200/JCO.21.00651   \n",
       "\n",
       "                                                 Url  ...  \\\n",
       "0  https://www.ncbi.nlm.nih.gov/pmc/articles/PMC8...  ...   \n",
       "\n",
       "  Programming Language Version System Code Code Number Section  Session  \\\n",
       "0                  NaN     NaN    NaN  NaN         NaN     NaN      NaN   \n",
       "\n",
       "  Committee  History  Legislative Body  \n",
       "0       NaN      NaN               NaN  \n",
       "\n",
       "[1 rows x 87 columns]"
      ]
     },
     "execution_count": 34,
     "metadata": {},
     "output_type": "execute_result"
    }
   ],
   "source": [
    "df = pd.read_csv(\"../data/Exported Items.csv\")\n",
    "df.head(1)"
   ]
  },
  {
   "cell_type": "code",
   "execution_count": 42,
   "metadata": {},
   "outputs": [
    {
     "data": {
      "text/plain": [
       "np.int64(75)"
      ]
     },
     "execution_count": 42,
     "metadata": {},
     "output_type": "execute_result"
    }
   ],
   "source": [
    "df['Manual Tags'].str.contains('obj2_include').sum()"
   ]
  },
  {
   "cell_type": "code",
   "execution_count": null,
   "metadata": {},
   "outputs": [],
   "source": []
  },
  {
   "cell_type": "code",
   "execution_count": null,
   "metadata": {},
   "outputs": [],
   "source": []
  }
 ],
 "metadata": {
  "kernelspec": {
   "display_name": ".venv",
   "language": "python",
   "name": "python3"
  },
  "language_info": {
   "codemirror_mode": {
    "name": "ipython",
    "version": 3
   },
   "file_extension": ".py",
   "mimetype": "text/x-python",
   "name": "python",
   "nbconvert_exporter": "python",
   "pygments_lexer": "ipython3",
   "version": "3.13.3"
  }
 },
 "nbformat": 4,
 "nbformat_minor": 2
}
